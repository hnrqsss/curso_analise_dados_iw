{
 "cells": [
  {
   "cell_type": "code",
   "execution_count": 17,
   "metadata": {},
   "outputs": [
    {
     "data": {
      "text/plain": [
       "464.9"
      ]
     },
     "execution_count": 17,
     "metadata": {},
     "output_type": "execute_result"
    }
   ],
   "source": [
    "import pandas as pd\n",
    "import numpy as np\n",
    "\n",
    "base = pd.read_csv('./base_produto.csv')\n",
    "\n",
    "base_editada = base\n",
    "\n",
    "base['NOME'] = base['NOME'].fillna('livrinho')\n",
    "\n",
    "base['preço'] = base['preço'].fillna(50)\n",
    "\n",
    "base['Id_categoria'] = base['Id_categoria'].fillna(2)\n",
    "\n",
    "media_preco = base['preço'].mean()\n",
    "\n",
    "media_preco\n"
   ]
  }
 ],
 "metadata": {
  "kernelspec": {
   "display_name": "venv",
   "language": "python",
   "name": "python3"
  },
  "language_info": {
   "codemirror_mode": {
    "name": "ipython",
    "version": 3
   },
   "file_extension": ".py",
   "mimetype": "text/x-python",
   "name": "python",
   "nbconvert_exporter": "python",
   "pygments_lexer": "ipython3",
   "version": "3.11.5"
  }
 },
 "nbformat": 4,
 "nbformat_minor": 5
}
