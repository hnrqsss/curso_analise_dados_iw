{
 "cells": [
  {
   "cell_type": "code",
   "execution_count": 2,
   "metadata": {},
   "outputs": [
    {
     "data": {
      "text/html": [
       "<div>\n",
       "<style scoped>\n",
       "    .dataframe tbody tr th:only-of-type {\n",
       "        vertical-align: middle;\n",
       "    }\n",
       "\n",
       "    .dataframe tbody tr th {\n",
       "        vertical-align: top;\n",
       "    }\n",
       "\n",
       "    .dataframe thead th {\n",
       "        text-align: right;\n",
       "    }\n",
       "</style>\n",
       "<table border=\"1\" class=\"dataframe\">\n",
       "  <thead>\n",
       "    <tr style=\"text-align: right;\">\n",
       "      <th></th>\n",
       "      <th>xID_fuNcionï¿½rio</th>\n",
       "      <th>funcionario</th>\n",
       "      <th>nomes_Maiï¿½sculo</th>\n",
       "      <th>ano_nascimento</th>\n",
       "      <th>segunda</th>\n",
       "      <th>Terï¿½a</th>\n",
       "      <th>quarta</th>\n",
       "      <th>quinta</th>\n",
       "      <th>sexta</th>\n",
       "    </tr>\n",
       "  </thead>\n",
       "  <tbody>\n",
       "    <tr>\n",
       "      <th>0</th>\n",
       "      <td>1001</td>\n",
       "      <td>Antonia Joana Maria das Dores</td>\n",
       "      <td>ANTONIA JOANA MARIA DAS DORES</td>\n",
       "      <td>1992</td>\n",
       "      <td>10</td>\n",
       "      <td>9</td>\n",
       "      <td>11</td>\n",
       "      <td>12</td>\n",
       "      <td>8</td>\n",
       "    </tr>\n",
       "    <tr>\n",
       "      <th>1</th>\n",
       "      <td>1327</td>\n",
       "      <td>Joï¿½o Paulo Magalhï¿½es</td>\n",
       "      <td>JOï¿½O PAULO MAGALHAES</td>\n",
       "      <td>1991</td>\n",
       "      <td>15</td>\n",
       "      <td>12</td>\n",
       "      <td>16</td>\n",
       "      <td>10</td>\n",
       "      <td>11</td>\n",
       "    </tr>\n",
       "    <tr>\n",
       "      <th>2</th>\n",
       "      <td>2091</td>\n",
       "      <td>Deusdete Amadeus Maria</td>\n",
       "      <td>DEUSDETE AMADEUS MARIA</td>\n",
       "      <td>1972</td>\n",
       "      <td>11</td>\n",
       "      <td>10</td>\n",
       "      <td>8</td>\n",
       "      <td>11</td>\n",
       "      <td>12</td>\n",
       "    </tr>\n",
       "    <tr>\n",
       "      <th>3</th>\n",
       "      <td>3091</td>\n",
       "      <td>Marcos Antï¿½nio Gonï¿½alves</td>\n",
       "      <td>MARCOS ANTONIO GONCALVES</td>\n",
       "      <td>1988</td>\n",
       "      <td>8</td>\n",
       "      <td>12</td>\n",
       "      <td>15</td>\n",
       "      <td>9</td>\n",
       "      <td>11</td>\n",
       "    </tr>\n",
       "  </tbody>\n",
       "</table>\n",
       "</div>"
      ],
      "text/plain": [
       "   xID_fuNcionï¿½rio                    funcionario  \\\n",
       "0               1001  Antonia Joana Maria das Dores   \n",
       "1               1327       Joï¿½o Paulo Magalhï¿½es   \n",
       "2               2091         Deusdete Amadeus Maria   \n",
       "3               3091   Marcos Antï¿½nio Gonï¿½alves   \n",
       "\n",
       "               nomes_Maiï¿½sculo  ano_nascimento  segunda  Terï¿½a  quarta  \\\n",
       "0  ANTONIA JOANA MARIA DAS DORES            1992       10        9      11   \n",
       "1         JOï¿½O PAULO MAGALHAES            1991       15       12      16   \n",
       "2         DEUSDETE AMADEUS MARIA            1972       11       10       8   \n",
       "3       MARCOS ANTONIO GONCALVES            1988        8       12      15   \n",
       "\n",
       "   quinta  sexta  \n",
       "0      12      8  \n",
       "1      10     11  \n",
       "2      11     12  \n",
       "3       9     11  "
      ]
     },
     "execution_count": 2,
     "metadata": {},
     "output_type": "execute_result"
    }
   ],
   "source": [
    "import pandas as pd\n",
    "import numpy as np\n",
    "import datetime\n",
    "\n",
    "caminho_arquivo = './fabrica.csv'\n",
    "\n",
    "base = pd.read_csv(caminho_arquivo, encoding='UTF-8')\n",
    "\n",
    "df = base.rename(columns={\n",
    "    'xID_fuNcion�rio': 'id_funcionario',\n",
    "    'FUNCIONARIO': 'funcionario',\n",
    "    'nomes_Mai�sculo': 'nomes_maiusculo',\n",
    "    'ano_nascimento': 'ano_nascimento',\n",
    "    'Segunda': 'segunda',\n",
    "    'Ter�a': 'terca',\n",
    "    'Quarta': 'quarta',\n",
    "    'Quinta': 'quinta',\n",
    "    'Sexta': 'sexta'\n",
    "})\n",
    "\n",
    "\n",
    "ano_atual = datetime.date.today().year\n",
    "\n",
    "colunas_lista_producao = ['segunda', 'terca', 'quarta', 'quinta', 'sexta']\n",
    "\n",
    "df"
   ]
  },
  {
   "cell_type": "code",
   "execution_count": 18,
   "metadata": {},
   "outputs": [
    {
     "data": {
      "text/html": [
       "<div>\n",
       "<style scoped>\n",
       "    .dataframe tbody tr th:only-of-type {\n",
       "        vertical-align: middle;\n",
       "    }\n",
       "\n",
       "    .dataframe tbody tr th {\n",
       "        vertical-align: top;\n",
       "    }\n",
       "\n",
       "    .dataframe thead th {\n",
       "        text-align: right;\n",
       "    }\n",
       "</style>\n",
       "<table border=\"1\" class=\"dataframe\">\n",
       "  <thead>\n",
       "    <tr style=\"text-align: right;\">\n",
       "      <th></th>\n",
       "      <th>id_funcionario</th>\n",
       "      <th>idade</th>\n",
       "      <th>media</th>\n",
       "      <th>variancia</th>\n",
       "      <th>desvio_padrao</th>\n",
       "    </tr>\n",
       "  </thead>\n",
       "  <tbody>\n",
       "    <tr>\n",
       "      <th>0</th>\n",
       "      <td>1001</td>\n",
       "      <td>31</td>\n",
       "      <td>10.0</td>\n",
       "      <td>2.5</td>\n",
       "      <td>1.581139</td>\n",
       "    </tr>\n",
       "    <tr>\n",
       "      <th>1</th>\n",
       "      <td>1327</td>\n",
       "      <td>32</td>\n",
       "      <td>12.8</td>\n",
       "      <td>6.7</td>\n",
       "      <td>2.588436</td>\n",
       "    </tr>\n",
       "  </tbody>\n",
       "</table>\n",
       "</div>"
      ],
      "text/plain": [
       "   id_funcionario  idade  media  variancia  desvio_padrao\n",
       "0            1001     31   10.0        2.5       1.581139\n",
       "1            1327     32   12.8        6.7       2.588436"
      ]
     },
     "metadata": {},
     "output_type": "display_data"
    }
   ],
   "source": [
    "# 1 - Mostre a tabela apenas com o id_funcionário, idade, média, variância e desvio padrão, daqueles que tem menos de 33 anos;\n",
    "\n",
    "\n",
    "maior_que_trinta_e_tres = df.copy()\n",
    "\n",
    "maior_que_trinta_e_tres['idade'] = ano_atual - maior_que_trinta_e_tres['ano_nascimento']\n",
    "\n",
    "maior_que_trinta_e_tres = maior_que_trinta_e_tres.query('idade < 33')\n",
    "\n",
    "producao_atual = maior_que_trinta_e_tres[colunas_lista_producao]\n",
    "\n",
    "maior_que_trinta_e_tres['media'] =  producao_atual.mean(axis=1)\n",
    "\n",
    "maior_que_trinta_e_tres['variancia'] = producao_atual.var(axis=1)\n",
    "\n",
    "maior_que_trinta_e_tres['desvio_padrao'] = producao_atual.std(axis=1)\n",
    "\n",
    "display(maior_que_trinta_e_tres[['id_funcionario','idade', 'media', 'variancia', 'desvio_padrao']])\n"
   ]
  },
  {
   "cell_type": "code",
   "execution_count": 28,
   "metadata": {},
   "outputs": [
    {
     "data": {
      "text/html": [
       "<div>\n",
       "<style scoped>\n",
       "    .dataframe tbody tr th:only-of-type {\n",
       "        vertical-align: middle;\n",
       "    }\n",
       "\n",
       "    .dataframe tbody tr th {\n",
       "        vertical-align: top;\n",
       "    }\n",
       "\n",
       "    .dataframe thead th {\n",
       "        text-align: right;\n",
       "    }\n",
       "</style>\n",
       "<table border=\"1\" class=\"dataframe\">\n",
       "  <thead>\n",
       "    <tr style=\"text-align: right;\">\n",
       "      <th></th>\n",
       "      <th>nome</th>\n",
       "      <th>media</th>\n",
       "      <th>variancia</th>\n",
       "      <th>desvio_padrao</th>\n",
       "    </tr>\n",
       "  </thead>\n",
       "  <tbody>\n",
       "    <tr>\n",
       "      <th>2</th>\n",
       "      <td>Deusdete Amadeus Maria</td>\n",
       "      <td>10.4</td>\n",
       "      <td>2.3</td>\n",
       "      <td>1.516575</td>\n",
       "    </tr>\n",
       "  </tbody>\n",
       "</table>\n",
       "</div>"
      ],
      "text/plain": [
       "                     nome  media  variancia  desvio_padrao\n",
       "2  Deusdete Amadeus Maria   10.4        2.3       1.516575"
      ]
     },
     "execution_count": 28,
     "metadata": {},
     "output_type": "execute_result"
    }
   ],
   "source": [
    "# 2 - Mostre a tabela com o nome do funcionário, média, variância e desvio padrão, daqueles que tem acima de 50 anos;\n",
    "\n",
    "\n",
    "maior_que_cinquenta = df.copy()\n",
    "\n",
    "maior_que_cinquenta['idade'] = ano_atual - maior_que_cinquenta['ano_nascimento']\n",
    "\n",
    "maior_que_cinquenta['nome'] = maior_que_cinquenta['funcionario']\n",
    "\n",
    "maior_que_cinquenta = maior_que_cinquenta.query('idade > 50')\n",
    "\n",
    "producao_atual = maior_que_cinquenta[colunas_lista_producao]\n",
    "\n",
    "maior_que_cinquenta['media'] =  producao_atual.mean(axis=1)\n",
    "\n",
    "maior_que_cinquenta['variancia'] = producao_atual.var(axis=1)\n",
    "\n",
    "maior_que_cinquenta['desvio_padrao'] = producao_atual.std(axis=1)\n",
    "\n",
    "maior_que_cinquenta[['nome', 'media', 'variancia', 'desvio_padrao']]"
   ]
  },
  {
   "cell_type": "code",
   "execution_count": 25,
   "metadata": {},
   "outputs": [
    {
     "data": {
      "text/html": [
       "<div>\n",
       "<style scoped>\n",
       "    .dataframe tbody tr th:only-of-type {\n",
       "        vertical-align: middle;\n",
       "    }\n",
       "\n",
       "    .dataframe tbody tr th {\n",
       "        vertical-align: top;\n",
       "    }\n",
       "\n",
       "    .dataframe thead th {\n",
       "        text-align: right;\n",
       "    }\n",
       "</style>\n",
       "<table border=\"1\" class=\"dataframe\">\n",
       "  <thead>\n",
       "    <tr style=\"text-align: right;\">\n",
       "      <th></th>\n",
       "      <th>nome</th>\n",
       "      <th>idade</th>\n",
       "      <th>media</th>\n",
       "      <th>variancia</th>\n",
       "      <th>desvio_padrao</th>\n",
       "    </tr>\n",
       "  </thead>\n",
       "  <tbody>\n",
       "  </tbody>\n",
       "</table>\n",
       "</div>"
      ],
      "text/plain": [
       "Empty DataFrame\n",
       "Columns: [nome, idade, media, variancia, desvio_padrao]\n",
       "Index: []"
      ]
     },
     "execution_count": 25,
     "metadata": {},
     "output_type": "execute_result"
    }
   ],
   "source": [
    "# 3 Mostre a tabela com o id_funcionário, nome do funcionário, idade, média, variânciae desvio padrão, daqueles que tem 35 anos e que o desvio padrão seja igual a 11;\n",
    "\n",
    "\n",
    "igual_a_trinta_e_cinco = df.copy()\n",
    "\n",
    "igual_a_trinta_e_cinco['idade'] = ano_atual - igual_a_trinta_e_cinco['ano_nascimento']\n",
    "\n",
    "igual_a_trinta_e_cinco['nome'] = igual_a_trinta_e_cinco['funcionario']\n",
    "\n",
    "producao_atual = igual_a_trinta_e_cinco[colunas_lista_producao]\n",
    "\n",
    "igual_a_trinta_e_cinco['media'] =  producao_atual.mean(axis=1)\n",
    "\n",
    "igual_a_trinta_e_cinco['variancia'] = producao_atual.var(axis=1)\n",
    "\n",
    "igual_a_trinta_e_cinco['desvio_padrao'] = producao_atual.std(axis=1)\n",
    "\n",
    "igual_a_trinta_e_cinco = igual_a_trinta_e_cinco.query('idade == 35 and variancia == 11')\n",
    "\n",
    "igual_a_trinta_e_cinco[['nome', 'idade', 'media', 'variancia', 'desvio_padrao']]\n"
   ]
  },
  {
   "cell_type": "code",
   "execution_count": 62,
   "metadata": {},
   "outputs": [
    {
     "data": {
      "text/plain": [
       "1    Jo�o Paulo Magalh�es\n",
       "Name: funcionario, dtype: object"
      ]
     },
     "execution_count": 62,
     "metadata": {},
     "output_type": "execute_result"
    }
   ],
   "source": [
    "# 4 - Qual dos funcionários apresenta maior taxa de produção média diária? Por quê?\n",
    "taxa_producao = df.copy()\n",
    "\n",
    "taxa_producao['media'] = taxa_producao[colunas_lista_producao].mean(axis=1)\n",
    "\n",
    "taxa_producao['desvio_padrao'] = taxa_producao[colunas_lista_producao].std(axis=1)\n",
    "\n",
    "taxa_producao['superior'] = taxa_producao['media'] + taxa_producao['desvio_padrao'] \n",
    "\n",
    "max_valor = taxa_producao['superior'].max()\n",
    "\n",
    "taxa_producao = taxa_producao.query('superior == @max_valor')\n",
    "\n",
    "taxa_producao['funcionario']"
   ]
  },
  {
   "cell_type": "code",
   "execution_count": 39,
   "metadata": {},
   "outputs": [
    {
     "data": {
      "text/plain": [
       "221"
      ]
     },
     "execution_count": 39,
     "metadata": {},
     "output_type": "execute_result"
    }
   ],
   "source": [
    "# 5 - Qual foi o total de produção diária da fábrica?\n",
    "\n",
    "sum_producao = df.copy()\n",
    "\n",
    "producao_atual = sum_producao[colunas_lista_producao]\n",
    "\n",
    "producao_atual = producao_atual.sum()\n",
    "\n",
    "producao_total = producao_atual.sum()\n",
    "\n",
    "producao_total\n"
   ]
  }
 ],
 "metadata": {
  "kernelspec": {
   "display_name": "venv",
   "language": "python",
   "name": "python3"
  },
  "language_info": {
   "codemirror_mode": {
    "name": "ipython",
    "version": 3
   },
   "file_extension": ".py",
   "mimetype": "text/x-python",
   "name": "python",
   "nbconvert_exporter": "python",
   "pygments_lexer": "ipython3",
   "version": "3.11.5"
  }
 },
 "nbformat": 4,
 "nbformat_minor": 2
}
